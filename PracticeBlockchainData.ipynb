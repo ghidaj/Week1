{
 "cells": [
  {
   "cell_type": "code",
   "execution_count": null,
   "metadata": {},
   "outputs": [],
   "source": [
    "import hashlib\n",
    "import json\n",
    "from time import time\n",
    "from collections import OrderedDict"
   ]
  },
  {
   "cell_type": "code",
   "execution_count": null,
   "metadata": {},
   "outputs": [],
   "source": [
    "class Printed:\n",
    "    \"\"\"A base class\"\"\"\n",
    "    def __repr__(self):\n",
    "        return str(self.__dict__)"
   ]
  },
  {
   "cell_type": "code",
   "execution_count": null,
   "metadata": {},
   "outputs": [],
   "source": [
    "class Block(Printed):\n",
    "    \"\"\"When a block is added to the chain...\"\"\"\n",
    "    def __init__(self, index, previousHash, transactions, proof, time=time()):\n",
    "        self.index = index\n",
    "        self.previousHash = previousHash\n",
    "        self.timestamp = time\n",
    "        self.transactions = transactions\n",
    "        self.proof = proof"
   ]
  },
  {
   "cell_type": "code",
   "execution_count": null,
   "metadata": {},
   "outputs": [],
   "source": [
    "class Transaction(Printed):\n",
    "    \"\"\"When a transaction is added to a block\"\"\"\n",
    "    def __init__(self, sender, receiver, amount):\n",
    "        self.sender = sender\n",
    "        self.receiver = receiver\n",
    "        self.amount = amount\n",
    "\n",
    "    def to_ordered_dict(self):\n",
    "        \"\"\"Converts into dict\"\"\"\n",
    "        return OrderedDict([('sender', self.sender), ('receiver', self.receiver), ('amount', self.amount)])\n"
   ]
  },
  {
   "cell_type": "code",
   "execution_count": null,
   "metadata": {},
   "outputs": [],
   "source": [
    "def hashString(string):\n",
    "    return hashlib.sha256(string).hexdigest()\n",
    "\n",
    "def hashBlock(block):\n",
    "    hashingBlock = block.__dict__.copy()\n",
    "    hashingBlock['transactions'] = [tx.to_ordered_dict() for tx in hashingBlock['transactions']]\n",
    "    return hashString(json.dumps(hashingBlock, sort_keys=True).encode())"
   ]
  },
  {
   "cell_type": "code",
   "execution_count": null,
   "metadata": {},
   "outputs": [],
   "source": [
    "tx = Transaction('xyz','tou',4)"
   ]
  },
  {
   "cell_type": "code",
   "execution_count": null,
   "metadata": {},
   "outputs": [],
   "source": [
    "tx"
   ]
  },
  {
   "cell_type": "code",
   "execution_count": null,
   "metadata": {},
   "outputs": [],
   "source": [
    "fblock = Block(0,'00',[tx],0)"
   ]
  },
  {
   "cell_type": "code",
   "execution_count": null,
   "metadata": {},
   "outputs": [],
   "source": [
    "fblock"
   ]
  },
  {
   "cell_type": "code",
   "execution_count": null,
   "metadata": {},
   "outputs": [],
   "source": [
    "hashBlock(fblock)"
   ]
  },
  {
   "cell_type": "code",
   "execution_count": null,
   "metadata": {},
   "outputs": [],
   "source": [
    "\"\"\"Verification: helper methods..\"\"\"\n",
    "\n",
    "class Verification:\n",
    "    @staticmethod\n",
    "    def validProof(transactions, lastHash, proof):\n",
    "        guess = (str([tx.to_ordered_dict() for tx in transactions]) + str(lastHash) + str(proof)).encode()\n",
    "        _hash = hashString(guess)\n",
    "        return _hash[0:2] == '00'\n",
    "        \n",
    "    @classmethod\n",
    "    def verifyChain(cls, chain):\n",
    "        \"\"\" \n",
    "        1- Verify all blocks in the chain .\n",
    "        2- Verify if a proof of work is valided\n",
    "        return True if it's valid, and False otherwise\n",
    "        \"\"\"\n"
   ]
  },
  {
   "cell_type": "code",
   "execution_count": null,
   "metadata": {},
   "outputs": [],
   "source": [
    "\n",
    "\n",
    "class Blockchain:\n",
    "    def __init__(self):\n",
    "        genesis_block = Block(0, '', [], 0, 0)\n",
    "        self.chain = [genesis_block]\n",
    "        self.unconfirmedTransaction = []\n",
    "#         self.REWAED = 10\n",
    "        \n",
    "    @property\n",
    "    def chain(self):\n",
    "        return self.__chain[:]\n",
    "\n",
    "    # The setter\n",
    "    @chain.setter\n",
    "    def chain(self, data):\n",
    "        self.__chain = data\n",
    "    \n",
    "    def proofOfWork(self):\n",
    "        last_block = self.__chain[-1]\n",
    "        lastHash = hashBlock(last_block)\n",
    "        proof = 0\n",
    "        while not Verification.validProof(self.unconfirmedTransaction, lastHash, proof):\n",
    "            proof += 1\n",
    "        return proof\n",
    "\n",
    "    \n",
    "    @property    \n",
    "    def unconfirmed(self):\n",
    "        \"\"\" return a list of unconfirmed transactions.\"\"\"\n",
    "         return self.unconfirmedTransaction[:]\n",
    "\n",
    "    def lastChain(self):\n",
    "        \"\"\" return the last block. \"\"\"\n",
    "         if len(self.__chain) < 1:\n",
    "            return None\n",
    "        return self.__chain[-1]\n",
    "\n",
    "    \n",
    "    def addTransaction(self, receiver, sender, amount=0.90):\n",
    "        \"\"\" Append a new transactions\"\"\"\n",
    "\n",
    "\n",
    "        \n",
    "    def addBlcok(self):\n",
    "        \"\"\" return a new block and append unconfirmed transactions so it is similar as a mining block\"\"\"\n",
    "\n",
    "\n",
    "\n"
   ]
  }
 ],
 "metadata": {
  "kernelspec": {
   "display_name": "Python 3",
   "language": "python",
   "name": "python3"
  },
  "language_info": {
   "codemirror_mode": {
    "name": "ipython",
    "version": 3
   },
   "file_extension": ".py",
   "mimetype": "text/x-python",
   "name": "python",
   "nbconvert_exporter": "python",
   "pygments_lexer": "ipython3",
   "version": "3.9.0"
  }
 },
 "nbformat": 4,
 "nbformat_minor": 4
}